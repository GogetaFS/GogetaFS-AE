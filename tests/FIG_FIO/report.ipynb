{
 "cells": [
  {
   "cell_type": "code",
   "execution_count": 2,
   "metadata": {},
   "outputs": [
    {
     "data": {
      "text/html": [
       "<div>\n",
       "<style scoped>\n",
       "    .dataframe tbody tr th:only-of-type {\n",
       "        vertical-align: middle;\n",
       "    }\n",
       "\n",
       "    .dataframe tbody tr th {\n",
       "        vertical-align: top;\n",
       "    }\n",
       "\n",
       "    .dataframe thead th {\n",
       "        text-align: right;\n",
       "    }\n",
       "</style>\n",
       "<table border=\"1\" class=\"dataframe\">\n",
       "  <thead>\n",
       "    <tr style=\"text-align: right;\">\n",
       "      <th></th>\n",
       "      <th>file_system</th>\n",
       "      <th>swap_mem</th>\n",
       "      <th>num_job</th>\n",
       "      <th>bandwidth(MiB/s)</th>\n",
       "    </tr>\n",
       "  </thead>\n",
       "  <tbody>\n",
       "    <tr>\n",
       "      <th>0</th>\n",
       "      <td>Light-Dedup-J-Regulate</td>\n",
       "      <td>134217728</td>\n",
       "      <td>1</td>\n",
       "      <td>1173</td>\n",
       "    </tr>\n",
       "    <tr>\n",
       "      <th>1</th>\n",
       "      <td>Light-Dedup-J-Regulate</td>\n",
       "      <td>268435456</td>\n",
       "      <td>1</td>\n",
       "      <td>1238</td>\n",
       "    </tr>\n",
       "    <tr>\n",
       "      <th>2</th>\n",
       "      <td>Light-Dedup-J-Regulate</td>\n",
       "      <td>402653184</td>\n",
       "      <td>1</td>\n",
       "      <td>1301</td>\n",
       "    </tr>\n",
       "    <tr>\n",
       "      <th>3</th>\n",
       "      <td>Light-Dedup-J-Regulate</td>\n",
       "      <td>536870912</td>\n",
       "      <td>1</td>\n",
       "      <td>1277</td>\n",
       "    </tr>\n",
       "    <tr>\n",
       "      <th>4</th>\n",
       "      <td>Light-Dedup-J-Regulate</td>\n",
       "      <td>134217728</td>\n",
       "      <td>2</td>\n",
       "      <td>1503</td>\n",
       "    </tr>\n",
       "  </tbody>\n",
       "</table>\n",
       "</div>"
      ],
      "text/plain": [
       "              file_system   swap_mem  num_job  bandwidth(MiB/s)\n",
       "0  Light-Dedup-J-Regulate  134217728        1              1173\n",
       "1  Light-Dedup-J-Regulate  268435456        1              1238\n",
       "2  Light-Dedup-J-Regulate  402653184        1              1301\n",
       "3  Light-Dedup-J-Regulate  536870912        1              1277\n",
       "4  Light-Dedup-J-Regulate  134217728        2              1503"
      ]
     },
     "execution_count": 2,
     "metadata": {},
     "output_type": "execute_result"
    }
   ],
   "source": [
    "import pandas as pd\n",
    "\n",
    "with open(\"./performance-comparison-table-4K-hybrid\", \"r\") as f:\n",
    "    df_4K = pd.read_csv(f, delim_whitespace=True, engine='python')\n",
    "with open(\"./performance-comparison-table-continuous-hybrid\", \"r\") as f:\n",
    "    df_cont = pd.read_csv(f, delim_whitespace=True, engine='python')\n",
    "df_4K.head()"
   ]
  },
  {
   "cell_type": "markdown",
   "metadata": {},
   "source": [
    "# How much performance compared to NV-Dedup and Light-Dedup"
   ]
  },
  {
   "cell_type": "code",
   "execution_count": 11,
   "metadata": {},
   "outputs": [
    {
     "name": "stdout",
     "output_type": "stream",
     "text": [
      "0\n",
      "==================\n",
      "Light-Dedup-Improve 40\n",
      "min, max 1.0931549150797735 1.3212536728697355\n",
      "33 0\n",
      "NV-Dedup 40\n",
      "min, max 0.9832522960561858 5.25\n",
      "3 32\n",
      "1\n",
      "==================\n",
      "Light-Dedup-Improve 40\n",
      "min, max 1.0703741846893238 1.3456014362657092\n",
      "39 0\n",
      "NV-Dedup 40\n",
      "min, max 1.020580474934037 8.12984054669704\n",
      "2 33\n",
      "2\n",
      "==================\n",
      "Light-Dedup-Improve 48\n",
      "min, max 1.0563990610363703 1.3232539587668601\n",
      "30 25\n",
      "NV-Dedup 48\n",
      "min, max 1.4388137229211793 3.9910726664456435\n",
      "22 24\n"
     ]
    }
   ],
   "source": [
    "# Data Preprocessing\n",
    "# with open(\"./avg-test-result-in-paper\", \"r\") as f:\n",
    "with open(\"./performance-comparison-table-4K-all-dram\", \"r\") as f:\n",
    "    df_4K_hybrid = pd.read_csv(f, delim_whitespace=True, index_col=None, engine='python')\n",
    "with open(\"./performance-comparison-table-continuous-all-dram\", \"r\") as f:\n",
    "    df_cont_hybrid = pd.read_csv(f, delim_whitespace=True, index_col=None, engine='python')\n",
    "with open(\"../FIG_RealWorld/performance-comparison-table-trace-all-dram\", \"r\") as f:\n",
    "    df_trace = pd.read_csv(f, delim_whitespace=True, index_col=None, engine='python')\n",
    "\n",
    "fss = [\"Light-Dedup-J-64bits\", \"Light-Dedup-Improve\", \"NV-Dedup\"]\n",
    "workloads = [\"FIO-4K\", \"FIO-continuous\", \"trace\"]\n",
    "for df_idx, df in enumerate([df_4K_hybrid, df_cont_hybrid, df_trace]):\n",
    "    job_name = \"num_job\" if df is df_4K_hybrid else \"job\"\n",
    "    if df is df_4K_hybrid:\n",
    "        base = df[(df[\"file_system\"] == \"Light-Dedup-J-64bits\")][\"bandwidth(MiB/s)\"].reset_index(drop=True)\n",
    "    else:\n",
    "        base = df[(df[\"file_system\"] == \"Light-Dedup-J-64bits\")][\"bandwidth(MiB/s)\"].reset_index(drop=True)\n",
    "\n",
    "    print(workloads[df_idx])\n",
    "    print(\"==================\")\n",
    "    for fs in fss:\n",
    "        if fs == \"Light-Dedup-J-64bits\":\n",
    "            continue\n",
    "        \n",
    "        if df is df_4K_hybrid:\n",
    "            bw = df[(df[\"file_system\"] == fs)][\"bandwidth(MiB/s)\"].reset_index(drop=True)\n",
    "        else:\n",
    "            bw = df[(df[\"file_system\"] == fs)][\"bandwidth(MiB/s)\"].reset_index(drop=True)\n",
    "\n",
    "        improve = base / bw \n",
    "        print(fs, len(improve))\n",
    "        print(\"min, max\", improve.min(), improve.max())\n"
   ]
  }
 ],
 "metadata": {
  "kernelspec": {
   "display_name": "Python 3",
   "language": "python",
   "name": "python3"
  },
  "language_info": {
   "codemirror_mode": {
    "name": "ipython",
    "version": 3
   },
   "file_extension": ".py",
   "mimetype": "text/x-python",
   "name": "python",
   "nbconvert_exporter": "python",
   "pygments_lexer": "ipython3",
   "version": "3.6.8"
  },
  "orig_nbformat": 4
 },
 "nbformat": 4,
 "nbformat_minor": 2
}
